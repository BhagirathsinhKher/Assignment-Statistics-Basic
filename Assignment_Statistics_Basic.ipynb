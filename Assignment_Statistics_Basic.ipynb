{
  "nbformat": 4,
  "nbformat_minor": 0,
  "metadata": {
    "colab": {
      "provenance": [],
      "collapsed_sections": [
        "QPn3oo-tZd8Z"
      ]
    },
    "kernelspec": {
      "name": "python3",
      "display_name": "Python 3"
    },
    "language_info": {
      "name": "python"
    }
  },
  "cells": [
    {
      "cell_type": "markdown",
      "source": [
        "#Theoritical Questions:"
      ],
      "metadata": {
        "id": "QPn3oo-tZd8Z"
      }
    },
    {
      "cell_type": "markdown",
      "source": [
        "1. What is statistics, and why is it important?\n",
        "- Statistics is a branch of mathematics that deals with the collection, organization, analysis, interpretation, and presentation of data. It helps in making informed decisions based on data patterns and trends.\n",
        "\n",
        ">- Importance of Statistics:  \n",
        "1. Data Analysis & Decision Making – Helps in analyzing large datasets and making data-driven decisions.  \n",
        "2. Scientific Research – Essential in experiments to validate hypotheses and draw conclusions.  \n",
        "3. Business & Economics – Used in market analysis, risk assessment, and financial planning.  \n",
        "4. Machine Learning & AI – Forms the foundation for algorithms and predictive models.  \n",
        "5. Quality Control – Ensures consistency and accuracy in manufacturing and production.  \n",
        "6. Medical & Healthcare – Used in clinical trials, disease prediction, and public health studies.  \n",
        "\n",
        "- Statistics is a crucial tool in various domains, enabling better understanding and optimization of real-world problems.  \n",
        "\n",
        "---\n",
        "\n",
        "2. What are the two main types of statistics?\n",
        "- There are two main types of statistics: Descriptive Statistics and Inferential Statistics.\n",
        "\n",
        ">- Descriptive Statistics:  \n",
        "1. It deals with summarizing and organizing data to make it easily understandable.  \n",
        "2. Uses measures such as mean, median, mode, standard deviation, and graphical representations like histograms and pie charts.  \n",
        "3. Example: Calculating the average marks of students in a class.  \n",
        "\n",
        ">- Inferential Statistics:  \n",
        "1. It involves analyzing a sample of data to make predictions or generalizations about a larger population.  \n",
        "2. Uses probability theory, hypothesis testing, confidence intervals, and regression analysis.  \n",
        "3. Example: Predicting election results based on a survey of a small group of people.  \n",
        "\n",
        "- Both types of statistics are essential for data analysis, decision-making, and problem-solving in various fields.\n",
        "\n",
        "---\n",
        "\n",
        "3. What are descriptive statistics?\n",
        "- Descriptive statistics is a branch of statistics that focuses on summarizing, organizing, and presenting data in a meaningful way.\n",
        "\n",
        ">- Key Features of Descriptive Statistics:  \n",
        "1. It helps in understanding the main characteristics of a dataset without making conclusions beyond the data itself.  \n",
        "2. Uses measures such as central tendency (mean, median, mode) and dispersion (range, variance, standard deviation).  \n",
        "3. Data can be represented using tables, graphs, charts, and frequency distributions.  \n",
        "\n",
        ">- Examples:  \n",
        "1. Finding the average height of students in a class.  \n",
        "2. Displaying sales data using bar charts.  \n",
        "3. Calculating the percentage of votes received by different candidates in an election.  \n",
        "\n",
        "- Descriptive statistics provide insights into data patterns, making it easier to interpret large datasets.\n",
        "\n",
        "---\n",
        "\n",
        "4. What is inferential statistics?\n",
        "- Inferential statistics is a branch of statistics that involves analyzing a sample of data to make predictions or generalizations about a larger population.\n",
        "\n",
        ">- Key Features of Inferential Statistics:  \n",
        "1. It helps in drawing conclusions beyond the given data using probability theory.  \n",
        "2. Involves hypothesis testing, confidence intervals, and regression analysis.  \n",
        "3. Uses sampling techniques to estimate population characteristics.  \n",
        "\n",
        ">- Examples:  \n",
        "1. Predicting the average income of a country's population based on a survey of a few thousand people.  \n",
        "2. Testing the effectiveness of a new drug using clinical trials on a sample group.  \n",
        "3. Forecasting election results by analyzing a small group of voters.  \n",
        "\n",
        "- Inferential statistics is widely used in research, business, healthcare, and various decision-making processes.\n",
        "\n",
        "---\n",
        "\n",
        "5. What is sampling in statistics?\n",
        "- Sampling in statistics is the process of selecting a subset of individuals or observations from a larger population to analyze and draw conclusions.\n",
        "\n",
        ">- Key Features of Sampling:  \n",
        "1. Helps in studying a population without collecting data from every individual.  \n",
        "2. Reduces cost, time, and effort compared to surveying the entire population.  \n",
        "3. Uses different sampling techniques to ensure accurate representation.  \n",
        "\n",
        ">- Types of Sampling:  \n",
        "1. **Random Sampling** – Every individual has an equal chance of being selected.  \n",
        "2. **Stratified Sampling** – Population is divided into groups, and samples are taken proportionally.  \n",
        "3. **Systematic Sampling** – Selecting every nth individual from a list.  \n",
        "4. **Cluster Sampling** – Population is divided into clusters, and some clusters are randomly selected.  \n",
        "5. **Convenience Sampling** – Choosing individuals based on ease of access.  \n",
        "\n",
        "- Sampling is essential for making data-driven decisions in research, business, and various scientific fields.\n",
        "\n",
        "---\n",
        "\n",
        "6. What are the different types of sampling methods?\n",
        "- Sampling methods are techniques used to select a subset of data from a larger population for analysis.\n",
        "\n",
        "- Types of Sampling Methods:  \n",
        "  1. **Probability Sampling** – Every member of the population has a known chance of being selected.  \n",
        "   - **Simple Random Sampling** – Each individual is chosen randomly with an equal chance.  \n",
        "   - **Stratified Sampling** – Population is divided into subgroups, and samples are taken from each group.  \n",
        "   - **Systematic Sampling** – Selecting every nth individual from an ordered list.  \n",
        "   - **Cluster Sampling** – Population is divided into clusters, and entire clusters are randomly selected.  \n",
        "  2. **Non-Probability Sampling** – Selection is based on non-random criteria, making some members more likely to be chosen than others.  \n",
        "   - **Convenience Sampling** – Selecting individuals who are easily accessible.  \n",
        "   - **Judgmental Sampling** – Researcher selects individuals based on expertise or judgment.  \n",
        "   - **Snowball Sampling** – Existing participants help recruit new participants, often used for hard-to-reach populations.  \n",
        "   - **Quota Sampling** – Ensuring specific characteristics are represented in the sample.  \n",
        "\n",
        "- Choosing the right sampling method is crucial for accurate and reliable data analysis.\n",
        "\n",
        "---\n",
        "\n",
        "7.  What is the difference between random and non-random sampling?\n",
        "- The difference between random and non-random sampling lies in the selection process and the probability of each member being chosen.\n",
        "\n",
        "- **Random Sampling**  \n",
        "  - Every member of the population has a known and equal chance of being selected.  \n",
        "  - Selection is purely based on chance, reducing bias.  \n",
        "  - Produces a representative sample, leading to more reliable conclusions.  \n",
        "  - Common methods: Simple Random Sampling, Stratified Sampling, Systematic Sampling, Cluster Sampling.  \n",
        "  - Example: Drawing names from a hat to select participants for a survey.  \n",
        "\n",
        "- **Non-Random Sampling**  \n",
        "  - Selection is based on subjective criteria or convenience, not on equal probability.  \n",
        "  - More prone to bias, making generalization to the whole population difficult.  \n",
        "  - Often used when time, cost, or accessibility constraints exist.  \n",
        "  - Common methods: Convenience Sampling, Judgmental Sampling, Snowball Sampling, Quota Sampling.  \n",
        "  - Example: Interviewing only people in a nearby shopping mall instead of randomly selecting from the entire city.  \n",
        "\n",
        "- Random sampling ensures unbiased and representative results, while non-random sampling is easier and faster but may lead to biased conclusions.\n",
        "\n",
        "---\n",
        "\n",
        "8. Define and give examples of qualitative and quantitative data.\n",
        "- Data can be classified into two main types: Qualitative and Quantitative data.\n",
        "\n",
        "- **Qualitative Data**  \n",
        "  - Descriptive data that represents characteristics, attributes, or categories.  \n",
        "  - Cannot be measured in numerical terms but can be classified or categorized.  \n",
        "  - Example:  \n",
        "    - Colors of cars in a parking lot (Red, Blue, Black).  \n",
        "    - Customer feedback on a product (Good, Bad, Excellent).  \n",
        "    - Types of fruits in a basket (Apple, Banana, Orange).  \n",
        "\n",
        "- **Quantitative Data**  \n",
        "  - Numerical data that can be measured or counted.  \n",
        "  - Can be further divided into discrete and continuous data.  \n",
        "  - Example:  \n",
        "    - Number of students in a class (Discrete).  \n",
        "    - Height of individuals in centimeters (Continuous).  \n",
        "    - Temperature recorded in a city over a week.  \n",
        "\n",
        "- Qualitative data describes attributes, while quantitative data provides measurable information that can be analyzed statistically.\n",
        "\n",
        "---\n",
        "\n",
        "9. What are the different types of data in statistics?\n",
        "- In statistics, data is categorized into different types based on its nature and measurement.\n",
        "\n",
        "- **1. Qualitative (Categorical) Data**  \n",
        "  - Descriptive data that represents attributes or characteristics.  \n",
        "  - Cannot be measured numerically but can be classified into categories.  \n",
        "  - Types:  \n",
        "    - **Nominal Data** – No inherent order (e.g., Colors of cars: Red, Blue, Black).  \n",
        "    - **Ordinal Data** – Has a meaningful order but no fixed difference (e.g., Customer satisfaction levels: Satisfied, Neutral, Dissatisfied).  \n",
        "\n",
        "- **2. Quantitative (Numerical) Data**  \n",
        "  - Data that can be counted or measured and expressed in numerical terms.  \n",
        "  - Types:  \n",
        "    - **Discrete Data** – Takes only whole numbers (e.g., Number of students in a class: 30, 45).  \n",
        "    - **Continuous Data** – Can take any value within a range (e.g., Height of a person: 5.7 ft, 6.2 ft).  \n",
        "\n",
        "- Choosing the right data type is essential for selecting appropriate statistical methods and analysis techniques.\n",
        "\n",
        "---\n",
        "\n",
        "10. Explain nominal, ordinal, interval, and ratio levels of measurement.\n",
        "- In statistics, data is measured at four different levels: Nominal, Ordinal, Interval, and Ratio.\n",
        "\n",
        "- **1. Nominal Level**  \n",
        "  - Categorizes data without any order or ranking.  \n",
        "  - Used for labeling variables without numerical significance.  \n",
        "  - Example:  \n",
        "    - Types of fruits (Apple, Banana, Orange).  \n",
        "    - Eye colors (Blue, Brown, Green).  \n",
        "    - Gender (Male, Female, Other).  \n",
        "\n",
        "- **2. Ordinal Level**  \n",
        "  - Categorizes data with a meaningful order, but differences between values are not measurable.  \n",
        "  - Indicates relative ranking but does not show exact differences.  \n",
        "  - Example:  \n",
        "    - Customer satisfaction (Satisfied, Neutral, Dissatisfied).  \n",
        "    - Education levels (Primary, Secondary, Higher Education).  \n",
        "    - Movie ratings (1 star, 2 stars, 3 stars).  \n",
        "\n",
        "- **3. Interval Level**  \n",
        "  - Numerical data with equal intervals between values but no true zero point.  \n",
        "  - Allows meaningful addition and subtraction but not meaningful ratios.  \n",
        "  - Example:  \n",
        "    - Temperature in Celsius or Fahrenheit (0°C does not mean 'no temperature').  \n",
        "    - IQ scores.  \n",
        "    - Years on a calendar (e.g., 2000, 2020).  \n",
        "\n",
        "- **4. Ratio Level**  \n",
        "  - Numerical data with equal intervals and an absolute zero point.  \n",
        "  - Allows all arithmetic operations, including meaningful ratios.  \n",
        "  - Example:  \n",
        "    - Height and weight of individuals.  \n",
        "    - Distance traveled in kilometers.  \n",
        "    - Age of a person in years.  \n",
        "\n",
        "- Understanding these measurement levels is essential for selecting the appropriate statistical analysis techniques.\n",
        "\n",
        "---\n",
        "\n",
        "11. What is the measure of central tendency?\n",
        "- The measure of central tendency is a statistical metric that represents the center or typical value of a dataset.\n",
        "\n",
        "- **Types of Measures of Central Tendency:**  \n",
        "  1. **Mean (Arithmetic Average)**  \n",
        "     - The sum of all values divided by the total number of observations.  \n",
        "     - Formula: Mean = (Sum of all values) / (Total number of values).  \n",
        "     - Example: The average monthly rainfall in Gujarat is calculated by summing rainfall data over months and dividing by the number of months.  \n",
        "\n",
        "  2. **Median (Middle Value)**  \n",
        "     - The middle value when data is arranged in ascending or descending order.  \n",
        "     - If the dataset has an even number of values, the median is the average of the two middle values.  \n",
        "     - Example: The median salary of employees in an Ahmedabad IT company can be determined by arranging salaries in order and finding the middle value.  \n",
        "\n",
        "  3. **Mode (Most Frequent Value)**  \n",
        "     - The value that appears most frequently in a dataset.  \n",
        "     - A dataset can have one mode (unimodal), multiple modes (bimodal/multimodal), or no mode.  \n",
        "     - Example: The most preferred festival sweet in Gujarat (e.g., Jalebi, Fafda) based on a survey.  \n",
        "\n",
        "- These measures help summarize data and provide insights into its distribution.\n",
        "\n",
        "---\n",
        "\n",
        "12. Define mean, median, and mode.\n",
        "- **Mean, Median, and Mode** are measures of central tendency that describe the center of a dataset.\n",
        "\n",
        "- **1. Mean (Arithmetic Average)**  \n",
        "  - The sum of all values divided by the total number of observations.  \n",
        "  - Formula: Mean = (Sum of all values) / (Total number of values).  \n",
        "  - Example: The average temperature in Ahmedabad over a week is calculated by adding daily temperatures and dividing by 7.  \n",
        "\n",
        "- **2. Median (Middle Value)**  \n",
        "  - The middle value when data is arranged in ascending or descending order.  \n",
        "  - If there are an even number of values, the median is the average of the two middle values.  \n",
        "  - Example: The median house price in Surat is found by listing house prices in order and selecting the middle value.  \n",
        "\n",
        "- **3. Mode (Most Frequent Value)**  \n",
        "  - The value that appears most frequently in a dataset.  \n",
        "  - A dataset can have one mode (unimodal), multiple modes (bimodal/multimodal), or no mode.  \n",
        "  - Example: The most common preferred snack in Gujarat based on a survey might be Fafda or Dhokla.  \n",
        "\n",
        "- These measures help summarize data and provide insights into its distribution.\n",
        "\n",
        "---\n",
        "\n",
        "13. What is the significance of the measure of central tendency?\n",
        "- The measure of central tendency is significant in statistics as it helps summarize a dataset by identifying a central or typical value.\n",
        "\n",
        "- **Importance of Central Tendency Measures:**  \n",
        "  1. **Data Summarization** – Reduces large datasets to a single representative value, making data easier to interpret.  \n",
        "  2. **Comparison of Datasets** – Helps compare different groups by analyzing their central values (e.g., average rainfall in Ahmedabad vs. Rajkot).  \n",
        "  3. **Decision Making** – Used in business, economics, and healthcare for data-driven decisions (e.g., average income analysis for financial planning).  \n",
        "  4. **Understanding Distribution** – Indicates the symmetry or skewness of data, helping in further statistical analysis.  \n",
        "  5. **Real-World Applications:**  \n",
        "     - **Mean** – Used in calculating the average marks of students in Gujarat board exams.  \n",
        "     - **Median** – Helps determine the middle salary of employees in a company to understand wage distribution.  \n",
        "     - **Mode** – Identifies the most preferred festival sweet in Gujarat (e.g., Jalebi) based on a survey.  \n",
        "\n",
        "- The measure of central tendency plays a crucial role in statistical analysis, research, and real-world problem-solving.\n",
        "\n",
        "---\n",
        "\n",
        "14. What is variance, and how is it calculated?\n",
        "- **Variance** is a statistical measure that represents the spread or dispersion of data points from the mean.\n",
        "\n",
        "- **Formula for Variance:**  \n",
        "  - For a population:  \n",
        "    - Variance (σ²) = (Σ (xi - μ)²) / N  \n",
        "  - For a sample:  \n",
        "    - Variance (s²) = (Σ (xi - x̄)²) / (n - 1)  \n",
        "  - Where:  \n",
        "    - xi = Each data point  \n",
        "    - μ = Population mean, x̄ = Sample mean  \n",
        "    - N = Total number of population data points  \n",
        "    - n = Total number of sample data points  \n",
        "\n",
        "- **Steps to Calculate Variance:**  \n",
        "  1. Find the mean (x̄) of the dataset.  \n",
        "  2. Subtract the mean from each data point and square the result.  \n",
        "  3. Sum all squared differences.  \n",
        "  4. Divide by N (for population) or (n-1) (for sample).  \n",
        "\n",
        "- **Example:**  \n",
        "  - Suppose the monthly electricity consumption (in kWh) of 5 households in Ahmedabad is: **150, 180, 200, 220, 250**.  \n",
        "  - Mean = **200 kWh**  \n",
        "  - Squared deviations from the mean: **(150-200)², (180-200)², (200-200)², (220-200)², (250-200)²**  \n",
        "  - Sum of squared deviations = **5000**  \n",
        "  - Variance (Sample) = **5000 / (5-1) = 1250 kWh²**  \n",
        "\n",
        "- Variance is crucial in statistics as it helps measure data dispersion and is used in risk assessment, quality control, and financial analysis.\n",
        "\n",
        "---\n",
        "\n",
        "15. What is standard deviation, and why is it important?\n",
        "- **Standard Deviation** is a statistical measure that quantifies the dispersion or spread of data points relative to the mean. It is the square root of variance.  \n",
        "\n",
        "- **Formula for Standard Deviation:**  \n",
        "  - For a population:  \n",
        "    - σ = √[(Σ (xi - μ)²) / N]  \n",
        "  - For a sample:  \n",
        "    - s = √[(Σ (xi - x̄)²) / (n - 1)]  \n",
        "  - Where:  \n",
        "    - σ = Population standard deviation, s = Sample standard deviation  \n",
        "    - xi = Each data point  \n",
        "    - μ = Population mean, x̄ = Sample mean  \n",
        "    - N = Total number of population data points  \n",
        "    - n = Total number of sample data points  \n",
        "\n",
        "- **Importance of Standard Deviation:**  \n",
        "  1. **Measures Data Spread** – Indicates how much data varies from the mean. A lower value means data is closely packed; a higher value means more variability.  \n",
        "  2. **Comparison of Datasets** – Helps compare variability between different datasets (e.g., comparing student marks in Ahmedabad and Rajkot).  \n",
        "  3. **Risk Assessment** – Used in finance and investments to measure volatility (e.g., stock market fluctuations).  \n",
        "  4. **Quality Control** – Ensures consistency in manufacturing (e.g., checking variations in product dimensions in an Ahmedabad factory).  \n",
        "  5. **Statistical Inference** – Helps in hypothesis testing, confidence intervals, and normal distribution analysis.  \n",
        "\n",
        "- **Example (Gujarat-specific):**  \n",
        "  - If the monthly temperatures in Surat vary significantly compared to Vadodara, Surat will have a higher standard deviation in temperature data.  \n",
        "\n",
        "- Standard deviation is a crucial metric in statistics, helping in data analysis, decision-making, and process optimization.\n",
        "\n",
        "---\n",
        "\n",
        "16. Define and explain the term range in statistics.\n",
        "- **Range** is a measure of dispersion in statistics that represents the difference between the highest and lowest values in a dataset.\n",
        "\n",
        "- **Formula for Range:**  \n",
        "  - Range = Maximum value - Minimum value  \n",
        "\n",
        "- **Explanation:**  \n",
        "  - It provides a quick estimate of data spread but does not consider data distribution or outliers.  \n",
        "  - A larger range indicates higher variability, while a smaller range suggests more consistency.  \n",
        "\n",
        "- **Example:**  \n",
        "  - If the test scores of five students are **45, 60, 75, 80, and 90**,  \n",
        "    - Maximum score = **90**  \n",
        "    - Minimum score = **45**  \n",
        "    - Range = **90 - 45 = 45**  \n",
        "\n",
        "- **Importance of Range:**  \n",
        "  1. **Quick Measure of Spread** – Provides a simple way to understand data variability.  \n",
        "  2. **Comparison of Variability** – Helps compare datasets, such as income distribution in different regions.  \n",
        "  3. **Identifying Extreme Values** – A large range might indicate the presence of outliers affecting data consistency.  \n",
        "\n",
        "- Range is a fundamental statistical tool, though it is often used alongside other measures like variance and standard deviation for better data analysis.\n",
        "\n",
        "---\n",
        "\n",
        "17. What is the difference between variance and standard deviation?\n",
        "- **Variance and Standard Deviation** both measure the spread of data in a dataset, but they differ in interpretation and calculation.\n",
        "\n",
        "- **Key Differences:**  \n",
        "\n",
        "| Feature               | Variance (σ² or s²)                              | Standard Deviation (σ or s)                   |\n",
        "  |----------------------|---------------------------------|-----------------------------------|\n",
        "  | **Definition**       | Average squared deviation from the mean | Square root of variance |\n",
        "  | **Formula** (Population) | σ² = (Σ (xi - μ)²) / N | σ = √[(Σ (xi - μ)²) / N] |\n",
        "  | **Formula** (Sample) | s² = (Σ (xi - x̄)²) / (n - 1) | s = √[(Σ (xi - x̄)²) / (n - 1)] |\n",
        "  | **Unit of Measurement** | Squared units of original data | Same unit as original data |\n",
        "  | **Interpretation**  | Shows data dispersion but not in original scale | Provides a more intuitive measure of data spread |\n",
        "  | **Sensitivity to Outliers** | More sensitive due to squaring deviations | Less sensitive as it takes square root |\n",
        "\n",
        "- **Example:**  \n",
        "  - Consider test scores: **50, 60, 70, 80, 90**  \n",
        "  - Mean = **70**  \n",
        "  - Variance = **250** (units²)  \n",
        "  - Standard Deviation = **√250 ≈ 15.81** (same unit as scores)  \n",
        "\n",
        "- **Importance of Standard Deviation over Variance:**  \n",
        "  - Since variance is in squared units, it is harder to interpret.  \n",
        "  - Standard deviation is easier to understand as it matches the original data's unit.  \n",
        "\n",
        "- Both variance and standard deviation are crucial in statistics for analyzing data dispersion and making informed decisions.\n",
        "\n",
        "---\n",
        "\n",
        "18. What is skewness in a dataset?\n",
        "- **Skewness** is a statistical measure that describes the asymmetry of a dataset’s distribution around its mean.\n",
        "\n",
        "- **Types of Skewness:**  \n",
        "  1. **Positive Skew (Right-Skewed)** – The tail on the right side is longer or fatter.  \n",
        "     - Mean > Median > Mode  \n",
        "     - Example: Income distribution in a population (a few people earn significantly more).  \n",
        "  2. **Negative Skew (Left-Skewed)** – The tail on the left side is longer or fatter.  \n",
        "     - Mean < Median < Mode  \n",
        "     - Example: Age of retirement (most people retire around the same age, but a few retire much earlier).  \n",
        "  3. **Zero Skewness (Symmetric Distribution)** – The left and right sides are mirror images.  \n",
        "     - Mean = Median = Mode  \n",
        "     - Example: Heights of adult males in a population.  \n",
        "\n",
        "- **Formula for Skewness (Pearson’s Coefficient):**  \n",
        "  - **Skewness (g₁) = 3 × (Mean - Median) / Standard Deviation**  \n",
        "\n",
        "- **Importance of Skewness:**  \n",
        "  1. Helps in understanding the shape and behavior of data.  \n",
        "  2. Important in risk analysis and financial modeling.  \n",
        "  3. Influences statistical tests and model selection.  \n",
        "\n",
        "- Skewness is crucial for interpreting data distributions and making informed decisions in data analysis.\n",
        "\n",
        "---\n",
        "\n",
        "19. What does it mean if a dataset is positively or negatively skewed?\n",
        "- **Skewness** describes the asymmetry of a dataset’s distribution around its mean.\n",
        "\n",
        "- **Interpretation of Skewness:**  \n",
        "  1. **Positively Skewed (Right-Skewed) Distribution:**  \n",
        "     - The right tail is longer, meaning a few extreme high values pull the mean to the right.  \n",
        "     - **Mean > Median > Mode**  \n",
        "     - Example: Income distribution, where most people earn moderate salaries, but a few earn significantly higher amounts.  \n",
        "\n",
        "  2. **Negatively Skewed (Left-Skewed) Distribution:**  \n",
        "     - The left tail is longer, meaning a few extreme low values pull the mean to the left.  \n",
        "     - **Mean < Median < Mode**  \n",
        "     - Example: Exam scores where most students perform well, but a few have very low scores.  \n",
        "\n",
        "- **Effects of Skewness:**  \n",
        "  1. **Positively Skewed Data** – Can affect average-based decisions (e.g., salaries or property prices).  \n",
        "  2. **Negatively Skewed Data** – Can impact forecasting models, requiring adjustments in statistical methods.  \n",
        "\n",
        "- Understanding skewness helps in making data-driven decisions and choosing appropriate statistical techniques.\n",
        "\n",
        "---\n",
        "\n",
        "20. Define and explain kurtosis.\n",
        "- **Kurtosis** is a statistical measure that describes the shape of a data distribution, specifically the presence of outliers and the peakedness of the distribution.\n",
        "\n",
        "- **Types of Kurtosis:**  \n",
        "  1. **Mesokurtic (Normal Distribution, k = 3)**  \n",
        "     - Moderate peak, similar to a normal distribution.  \n",
        "     - Example: Heights of people in a population.  \n",
        "\n",
        "  2. **Leptokurtic (High Kurtosis, k > 3)**  \n",
        "     - Sharp peak with heavy tails (more extreme values/outliers).  \n",
        "     - Example: Stock market returns with frequent large fluctuations.  \n",
        "\n",
        "  3. **Platykurtic (Low Kurtosis, k < 3)**  \n",
        "     - Flatter peak with lighter tails (few extreme values).  \n",
        "     - Example: Uniform distribution of test scores with low variability.  \n",
        "\n",
        "- **Formula for Kurtosis:**  \n",
        "  - **Kurtosis (K) = [Σ (xi - μ)⁴ / N] / (σ⁴)**  \n",
        "  - Excess kurtosis = **K - 3** (compares to normal distribution).  \n",
        "\n",
        "- **Importance of Kurtosis:**  \n",
        "  1. Helps in understanding the presence of outliers.  \n",
        "  2. Important in risk analysis (e.g., financial markets).  \n",
        "  3. Affects statistical model assumptions.  \n",
        "\n",
        "- Kurtosis provides insights into data distribution behavior, helping in decision-making and risk management.\n",
        "\n",
        "---\n",
        "\n",
        "21. What is the purpose of covariance?\n",
        "- **Covariance** measures the direction of the linear relationship between two variables. It helps in understanding whether an increase in one variable corresponds to an increase or decrease in another.\n",
        "\n",
        "- **Formula for Covariance:**  \n",
        "  - **Population Covariance:**  \n",
        "    - Cov(X, Y) = Σ [(Xi - μX) * (Yi - μY)] / N  \n",
        "  - **Sample Covariance:**  \n",
        "    - Cov(X, Y) = Σ [(Xi - X̄) * (Yi - Ȳ)] / (n - 1)  \n",
        "\n",
        "- **Interpretation of Covariance:**  \n",
        "  1. **Positive Covariance:** If one variable increases, the other also increases.  \n",
        "     - Example: Study hours and exam scores.  \n",
        "  2. **Negative Covariance:** If one variable increases, the other decreases.  \n",
        "     - Example: Price of a product and its demand.  \n",
        "  3. **Zero Covariance:** No relationship between the variables.  \n",
        "\n",
        "- **Purpose of Covariance:**  \n",
        "  1. **Determines Relationship Direction** – Indicates if variables move together or in opposite directions.  \n",
        "  2. **Used in Portfolio Management** – Helps in risk analysis by studying asset correlations.  \n",
        "  3. **Foundation for Correlation** – Standardized form of covariance is used to compute correlation.  \n",
        "\n",
        "- Covariance helps in statistical analysis but is less useful alone due to its dependency on variable scales.\n",
        "\n",
        "---\n",
        "\n",
        "22. What does correlation measure in statistics?\n",
        "- **Correlation** measures the strength and direction of the linear relationship between two variables. It standardizes covariance to make interpretation easier.\n",
        "\n",
        "- **Formula for Pearson’s Correlation Coefficient (r):**  \n",
        "  - r = **Cov(X, Y) / (σX * σY)**  \n",
        "  - Where:  \n",
        "    - **Cov(X, Y)** = Covariance between X and Y  \n",
        "    - **σX, σY** = Standard deviations of X and Y  \n",
        "\n",
        "- **Interpretation of Correlation Coefficient (r):**  \n",
        "  1. **r = +1** → Perfect positive correlation (both variables increase together).  \n",
        "  2. **r > 0** → Positive correlation (one increases, the other also tends to increase).  \n",
        "  3. **r = 0** → No correlation (no linear relationship).  \n",
        "  4. **r < 0** → Negative correlation (one increases, the other tends to decrease).  \n",
        "  5. **r = -1** → Perfect negative correlation (one increases, the other decreases exactly).  \n",
        "\n",
        "- **Types of Correlation:**  \n",
        "  1. **Pearson’s Correlation** – Measures linear relationships.  \n",
        "  2. **Spearman’s Rank Correlation** – Measures monotonic relationships (used for ordinal data).  \n",
        "  3. **Kendall’s Tau** – Measures ordinal associations in small datasets.  \n",
        "\n",
        "- **Importance of Correlation:**  \n",
        "  1. **Identifies Relationships** – Helps in understanding connections between variables.  \n",
        "  2. **Predictive Analysis** – Used in regression and forecasting models.  \n",
        "  3. **Portfolio Diversification** – Helps in risk assessment by studying asset relationships.  \n",
        "\n",
        "- Correlation is a crucial tool for analyzing data patterns, but it does not imply causation.\n",
        "\n",
        "---\n",
        "\n",
        "23. What is the difference between covariance and correlation?\n",
        "- **Covariance** and **correlation** both measure the relationship between two variables, but they differ in interpretation and scale.\n",
        "\n",
        "- **Key Differences Between Covariance and Correlation:**  \n",
        "\n",
        "| Feature        | Covariance | Correlation |\n",
        "  |--------------|------------|-------------|\n",
        "  | **Definition** | Measures the direction of the relationship between two variables. | Measures both the strength and direction of the relationship. |\n",
        "  | **Formula** | Cov(X, Y) = Σ [(Xi - X̄) * (Yi - Ȳ)] / (n - 1) | r = Cov(X, Y) / (σX * σY) |\n",
        "  | **Range** | No fixed range; values can be any number. | Always between -1 and +1. |\n",
        "  | **Scale Dependence** | Depends on the units of measurement. | Unit-free, making it easier to interpret. |\n",
        "  | **Interpretation** | Only shows the direction (positive/negative) but not the strength. | Indicates both the direction and strength of the relationship. |\n",
        "  | **Use Case** | Used in intermediate calculations for correlation and portfolio analysis. | Used in statistical analysis, regression, and financial modeling. |\n",
        "\n",
        "- **Key Takeaways:**  \n",
        "  1. Covariance only shows the **direction** of the relationship, while correlation shows both **direction and strength**.  \n",
        "  2. Correlation is more useful because it is **standardized and unit-free**.  \n",
        "  3. If two variables have a strong correlation, their covariance will also be high, but the reverse is not necessarily true.  \n",
        "\n",
        "- Correlation is generally preferred over covariance for data analysis since it provides a more interpretable measure of association.\n",
        "\n",
        "---\n",
        "\n",
        "24. What are some real-world applications of statistics?\n",
        "- **Statistics** is widely used in various fields to analyze data, make predictions, and improve decision-making.\n",
        "\n",
        "- **Real-World Applications of Statistics:**  \n",
        "\n",
        "  1. **Business & Finance** – Used in market research, risk assessment, sales forecasting, and investment analysis.  \n",
        "  2. **Healthcare & Medicine** – Applied in clinical trials, disease prediction, epidemiology, and patient care improvement.  \n",
        "  3. **Manufacturing & Quality Control** – Ensures product quality using statistical process control (SPC) and Six Sigma techniques.  \n",
        "  4. **Education & Research** – Helps in student performance analysis, experimental studies, and academic research.  \n",
        "  5. **Government & Public Policy** – Used in census data analysis, unemployment rate calculation, and economic planning.  \n",
        "  6. **Sports Analytics** – Evaluates player performance, team strategy, and game predictions.  \n",
        "  7. **Machine Learning & Artificial Intelligence** – Forms the foundation for predictive modeling, data science, and AI algorithms.  \n",
        "  8. **Agriculture & Environment** – Used in crop yield prediction, climate change analysis, and resource management.  \n",
        "  9. **Social Sciences & Psychology** – Helps in behavior analysis, survey research, and social trend predictions.  \n",
        "  10. **Transportation & Logistics** – Optimizes traffic control, supply chain management, and airline scheduling.  \n",
        "\n",
        "- Statistics plays a crucial role in **decision-making, forecasting, and optimization** across various industries.\n",
        "\n",
        "---"
      ],
      "metadata": {
        "id": "uMPov0wOZjhu"
      }
    },
    {
      "cell_type": "markdown",
      "source": [
        "#Practical Questions:"
      ],
      "metadata": {
        "id": "Rx3oq6JYZYBv"
      }
    },
    {
      "cell_type": "code",
      "source": [
        "#1.  How do you calculate the mean, median, and mode of a dataset?\n",
        "\n",
        "import statistics\n",
        "import numpy as np\n",
        "\n",
        "# Sample dataset\n",
        "data = [4, 8, 6, 5, 3, 8, 8, 2, 9, 5, 6, 4, 6]\n",
        "\n",
        "# Mean\n",
        "mean_value = statistics.mean(data)\n",
        "print(\"Mean:\", mean_value)\n",
        "\n",
        "# Median\n",
        "median_value = statistics.median(data)\n",
        "print(\"Median:\", median_value)\n",
        "\n",
        "# Mode\n",
        "mode_value = statistics.mode(data)\n",
        "print(\"Mode:\", mode_value)  # Use statistics.multimode(data) for multiple modes\n"
      ],
      "metadata": {
        "colab": {
          "base_uri": "https://localhost:8080/"
        },
        "id": "benuV0R0p_yS",
        "outputId": "8d8ebd75-518a-4aa9-e43e-379a0bc6ba82"
      },
      "execution_count": null,
      "outputs": [
        {
          "output_type": "stream",
          "name": "stdout",
          "text": [
            "Mean: 5.6923076923076925\n",
            "Median: 6\n",
            "Mode: 8\n"
          ]
        }
      ]
    },
    {
      "cell_type": "code",
      "source": [
        "#2. Write a Python program to compute the variance and standard deviation of a dataset.\n",
        "import statistics\n",
        "\n",
        "# Sample dataset\n",
        "data = [4, 8, 6, 5, 3, 8, 8, 2, 9, 5, 6, 4, 6]\n",
        "\n",
        "# Variance\n",
        "variance_value = statistics.variance(data)\n",
        "print(\"Variance:\", variance_value)\n",
        "\n",
        "# Standard Deviation\n",
        "std_dev_value = statistics.stdev(data)\n",
        "print(\"Standard Deviation:\", std_dev_value)\n"
      ],
      "metadata": {
        "colab": {
          "base_uri": "https://localhost:8080/"
        },
        "id": "hcjnAHDoqjoH",
        "outputId": "0c33fb28-9c20-4991-8360-72453c46e1e0"
      },
      "execution_count": null,
      "outputs": [
        {
          "output_type": "stream",
          "name": "stdout",
          "text": [
            "Variance: 4.564102564102564\n",
            "Standard Deviation: 2.1363760352762253\n"
          ]
        }
      ]
    },
    {
      "cell_type": "code",
      "source": [
        "#3. Create a dataset and classify it into nominal, ordinal, interval, and ratio types.\n",
        "\n",
        "# Creating a dataset with different data types\n",
        "\n",
        "# Nominal Data (Categorical, no order)\n",
        "nominal_data = [\"Red\", \"Blue\", \"Green\", \"Yellow\", \"Red\", \"Green\"]\n",
        "\n",
        "# Ordinal Data (Categorical, with order)\n",
        "ordinal_data = [\"Low\", \"Medium\", \"High\", \"Medium\", \"Low\", \"High\"]\n",
        "\n",
        "# Interval Data (Numerical, no true zero)\n",
        "interval_data = [-10, 0, 10, 20, 30, 40]  # Example: Temperature in Celsius\n",
        "\n",
        "# Ratio Data (Numerical, true zero exists)\n",
        "ratio_data = [5, 10, 15, 20, 25, 30]  # Example: Weight in kg\n",
        "\n",
        "# Printing the classified datasets\n",
        "print(\"Nominal Data:\", nominal_data)\n",
        "print(\"Ordinal Data:\", ordinal_data)\n",
        "print(\"Interval Data:\", interval_data)\n",
        "print(\"Ratio Data:\", ratio_data)\n"
      ],
      "metadata": {
        "colab": {
          "base_uri": "https://localhost:8080/"
        },
        "id": "euy-suIhqyYn",
        "outputId": "32a0415f-3ad9-4123-89dd-f32f7fad05d5"
      },
      "execution_count": null,
      "outputs": [
        {
          "output_type": "stream",
          "name": "stdout",
          "text": [
            "Nominal Data: ['Red', 'Blue', 'Green', 'Yellow', 'Red', 'Green']\n",
            "Ordinal Data: ['Low', 'Medium', 'High', 'Medium', 'Low', 'High']\n",
            "Interval Data: [-10, 0, 10, 20, 30, 40]\n",
            "Ratio Data: [5, 10, 15, 20, 25, 30]\n"
          ]
        }
      ]
    },
    {
      "cell_type": "code",
      "source": [
        "#4. Implement sampling techniques like random sampling and stratified sampling.\n",
        "\n",
        "import random\n",
        "import pandas as pd\n",
        "from sklearn.model_selection import train_test_split\n",
        "\n",
        "# Sample dataset\n",
        "data = {\n",
        "    \"ID\": range(1, 21),\n",
        "    \"Category\": [\"A\"] * 10 + [\"B\"] * 10,\n",
        "    \"Value\": random.sample(range(1, 100), 20)\n",
        "}\n",
        "\n",
        "df = pd.DataFrame(data)\n",
        "\n",
        "# Random Sampling\n",
        "random_sample = df.sample(n=5, random_state=42)\n",
        "print(\"Random Sample:\\n\", random_sample)\n",
        "\n",
        "# Stratified Sampling (based on 'Category' column)\n",
        "stratified_sample, _ = train_test_split(df, test_size=0.75, stratify=df[\"Category\"], random_state=42)\n",
        "print(\"\\nStratified Sample:\\n\", stratified_sample)\n",
        "\n"
      ],
      "metadata": {
        "colab": {
          "base_uri": "https://localhost:8080/"
        },
        "id": "vDjrC3drrFTy",
        "outputId": "42be8e4e-1f2c-4c14-e1a7-804afdb260bf"
      },
      "execution_count": null,
      "outputs": [
        {
          "output_type": "stream",
          "name": "stdout",
          "text": [
            "Random Sample:\n",
            "     ID Category  Value\n",
            "0    1        A     50\n",
            "17  18        B     83\n",
            "15  16        B     87\n",
            "1    2        A     90\n",
            "8    9        A     32\n",
            "\n",
            "Stratified Sample:\n",
            "     ID Category  Value\n",
            "19  20        B     26\n",
            "10  11        B     86\n",
            "5    6        A     74\n",
            "16  17        B     47\n",
            "0    1        A     50\n"
          ]
        }
      ]
    },
    {
      "cell_type": "code",
      "source": [
        "#5. Write a Python function to calculate the range of a dataset.\n",
        "\n",
        "def calculate_range(data):\n",
        "    return max(data) - min(data)\n",
        "\n",
        "# Sample dataset\n",
        "data = [4, 8, 6, 5, 3, 8, 8, 2, 9, 5, 6, 4, 6]\n",
        "\n",
        "# Calculate range\n",
        "print(\"Range:\", calculate_range(data))"
      ],
      "metadata": {
        "colab": {
          "base_uri": "https://localhost:8080/"
        },
        "id": "UjRiTm0HrNqy",
        "outputId": "aad0637a-2a0e-4073-87af-b4df47f04130"
      },
      "execution_count": null,
      "outputs": [
        {
          "output_type": "stream",
          "name": "stdout",
          "text": [
            "Range: 7\n"
          ]
        }
      ]
    },
    {
      "cell_type": "code",
      "source": [
        "#6. Create a dataset and plot its histogram to visualize skewness.\n",
        "\n",
        "import numpy as np\n",
        "import matplotlib.pyplot as plt\n",
        "\n",
        "# Creating a right-skewed dataset\n",
        "data = np.random.exponential(scale=2, size=1000)\n",
        "\n",
        "# Plot histogram\n",
        "plt.hist(data, bins=30, edgecolor='black', alpha=0.7)\n",
        "plt.title(\"Histogram to Visualize Skewness\")\n",
        "plt.xlabel(\"Value\")\n",
        "plt.ylabel(\"Frequency\")\n",
        "plt.show()"
      ],
      "metadata": {
        "colab": {
          "base_uri": "https://localhost:8080/",
          "height": 472
        },
        "id": "utIyN33srgHY",
        "outputId": "7f180bc3-6b4e-41a6-ac87-cdc4d1cf98d9"
      },
      "execution_count": null,
      "outputs": [
        {
          "output_type": "display_data",
          "data": {
            "text/plain": [
              "<Figure size 640x480 with 1 Axes>"
            ],
            "image/png": "[encoded data removed]"
          },
          "metadata": {}
        }
      ]
    },
    {
      "cell_type": "code",
      "source": [
        "#7. Calculate skewness and kurtosis of a dataset using Python libraries.\n",
        "\n",
        "import numpy as np\n",
        "import scipy.stats as stats\n",
        "\n",
        "# Sample dataset\n",
        "data = [4, 8, 6, 5, 3, 8, 8, 2, 9, 5, 6, 4, 6]\n",
        "\n",
        "# Calculate skewness\n",
        "skewness = stats.skew(data)\n",
        "\n",
        "# Calculate kurtosis\n",
        "kurtosis = stats.kurtosis(data)\n",
        "\n",
        "print(\"Skewness:\", skewness)\n",
        "print(\"Kurtosis:\", kurtosis)\n"
      ],
      "metadata": {
        "id": "SQc-djo5sSRJ",
        "colab": {
          "base_uri": "https://localhost:8080/"
        },
        "outputId": "076a5ee3-90d2-4806-c717-04b92955cff3"
      },
      "execution_count": 1,
      "outputs": [
        {
          "output_type": "stream",
          "name": "stdout",
          "text": [
            "Skewness: -0.06284696886664766\n",
            "Kurtosis: -1.0061150738543099\n"
          ]
        }
      ]
    },
    {
      "cell_type": "code",
      "source": [
        "#8. Generate a dataset and demonstrate positive and negative skewness.\n",
        "\n",
        "import numpy as np\n",
        "import matplotlib.pyplot as plt\n",
        "\n",
        "# Generating a positively skewed dataset\n",
        "positive_skew = np.random.exponential(scale=2, size=1000)\n",
        "\n",
        "# Generating a negatively skewed dataset\n",
        "negative_skew = np.random.normal(loc=10, scale=2, size=1000) ** 2\n",
        "\n",
        "# Plotting histograms\n",
        "plt.figure(figsize=(12, 5))\n",
        "\n",
        "# Positive Skewness\n",
        "plt.subplot(1, 2, 1)\n",
        "plt.hist(positive_skew, bins=30, edgecolor='black', alpha=0.7)\n",
        "plt.title(\"Positively Skewed Distribution\")\n",
        "\n",
        "# Negative Skewness\n",
        "plt.subplot(1, 2, 2)\n",
        "plt.hist(negative_skew, bins=30, edgecolor='black', alpha=0.7)\n",
        "plt.title(\"Negatively Skewed Distribution\")\n",
        "\n",
        "plt.show()\n"
      ],
      "metadata": {
        "colab": {
          "base_uri": "https://localhost:8080/",
          "height": 468
        },
        "id": "K_3w25Q6ILew",
        "outputId": "e46cee81-c0e1-4718-996a-ea1c460881a9"
      },
      "execution_count": 2,
      "outputs": [
        {
          "output_type": "display_data",
          "data": {
            "text/plain": [
              "<Figure size 1200x500 with 2 Axes>"
            ],
            "image/png": "[encoded data removed]"
          },
          "metadata": {}
        }
      ]
    },
    {
      "cell_type": "code",
      "source": [
        "#9. Write a Python script to calculate covariance between two datasets.\n",
        "\n",
        "import numpy as np\n",
        "\n",
        "# Sample datasets\n",
        "x = [10, 20, 30, 40, 50]\n",
        "y = [5, 15, 25, 35, 45]\n",
        "\n",
        "# Calculate covariance\n",
        "covariance = np.cov(x, y, bias=False)[0, 1]  # bias=False for sample covariance\n",
        "print(\"Covariance:\", covariance)"
      ],
      "metadata": {
        "colab": {
          "base_uri": "https://localhost:8080/"
        },
        "id": "PlDPS2uwJc8a",
        "outputId": "8c48445a-67b1-4c67-cb8e-1c92c03efa2c"
      },
      "execution_count": 3,
      "outputs": [
        {
          "output_type": "stream",
          "name": "stdout",
          "text": [
            "Covariance: 250.0\n"
          ]
        }
      ]
    },
    {
      "cell_type": "code",
      "source": [
        "#10. Write a Python script to calculate the correlation coefficient between two datasets.\n",
        "\n",
        "import numpy as np\n",
        "\n",
        "# Sample datasets\n",
        "x = [10, 20, 30, 40, 50]\n",
        "y = [5, 15, 25, 35, 45]\n",
        "\n",
        "# Calculate correlation coefficient\n",
        "correlation = np.corrcoef(x, y)[0, 1]\n",
        "print(\"Correlation Coefficient:\", correlation)"
      ],
      "metadata": {
        "colab": {
          "base_uri": "https://localhost:8080/"
        },
        "id": "fIvbjUxRJoNO",
        "outputId": "154541e9-3ca1-47e1-e642-1f815bc90022"
      },
      "execution_count": 4,
      "outputs": [
        {
          "output_type": "stream",
          "name": "stdout",
          "text": [
            "Correlation Coefficient: 1.0\n"
          ]
        }
      ]
    },
    {
      "cell_type": "code",
      "source": [
        "#11. Create a scatter plot to visualize the relationship between two variables.\n",
        "\n",
        "import numpy as np\n",
        "import matplotlib.pyplot as plt\n",
        "\n",
        "# Sample datasets\n",
        "x = np.random.randint(1, 50, 20)\n",
        "y = x * 2 + np.random.randint(-10, 10, 20)  # Adding some noise\n",
        "\n",
        "# Create scatter plot\n",
        "plt.scatter(x, y, color='blue', edgecolor='black', alpha=0.7)\n",
        "plt.title(\"Scatter Plot of Two Variables\")\n",
        "plt.xlabel(\"X values\")\n",
        "plt.ylabel(\"Y values\")\n",
        "plt.grid(True)\n",
        "plt.show()\n"
      ],
      "metadata": {
        "colab": {
          "base_uri": "https://localhost:8080/",
          "height": 472
        },
        "id": "7-EKHP5iJxr5",
        "outputId": "448454ab-695c-469e-ca0f-8a9acab6ccb5"
      },
      "execution_count": 5,
      "outputs": [
        {
          "output_type": "display_data",
          "data": {
            "text/plain": [
              "<Figure size 640x480 with 1 Axes>"
            ],
            "image/png": "[encoded data removed]"
          },
          "metadata": {}
        }
      ]
    },
    {
      "cell_type": "code",
      "source": [
        "#12. Implement and compare simple random sampling and systematic sampling.\n",
        "\n",
        "import numpy as np\n",
        "import pandas as pd\n",
        "\n",
        "# Creating a sample dataset\n",
        "data = pd.DataFrame({\"ID\": range(1, 101), \"Value\": np.random.randint(1, 100, 100)})\n",
        "\n",
        "# Simple Random Sampling\n",
        "random_sample = data.sample(n=10, random_state=42)\n",
        "print(\"Simple Random Sampling:\\n\", random_sample)\n",
        "\n",
        "# Systematic Sampling\n",
        "k = len(data) // 10  # Sampling interval\n",
        "systematic_sample = data.iloc[::k]\n",
        "print(\"\\nSystematic Sampling:\\n\", systematic_sample)\n"
      ],
      "metadata": {
        "colab": {
          "base_uri": "https://localhost:8080/"
        },
        "id": "iAIOsIWsJ6MP",
        "outputId": "e0318770-ab85-4e95-c4a0-461df24a0c5a"
      },
      "execution_count": 6,
      "outputs": [
        {
          "output_type": "stream",
          "name": "stdout",
          "text": [
            "Simple Random Sampling:\n",
            "     ID  Value\n",
            "83  84     53\n",
            "53  54     45\n",
            "70  71     97\n",
            "45  46      8\n",
            "44  45     87\n",
            "39  40     93\n",
            "22  23     75\n",
            "80  81     72\n",
            "10  11     86\n",
            "0    1     71\n",
            "\n",
            "Systematic Sampling:\n",
            "     ID  Value\n",
            "0    1     71\n",
            "10  11     86\n",
            "20  21      9\n",
            "30  31     50\n",
            "40  41     60\n",
            "50  51     47\n",
            "60  61     67\n",
            "70  71     97\n",
            "80  81     72\n",
            "90  91     66\n"
          ]
        }
      ]
    },
    {
      "cell_type": "code",
      "source": [
        "#13. Calculate the mean, median, and mode of grouped data.\n",
        "\n",
        "import statistics\n",
        "import numpy as np\n",
        "\n",
        "# Grouped data (class intervals and frequencies)\n",
        "class_intervals = [(0, 10), (10, 20), (20, 30), (30, 40), (40, 50)]\n",
        "frequencies = [5, 8, 15, 10, 7]\n",
        "\n",
        "# Compute midpoints\n",
        "midpoints = [(c[0] + c[1]) / 2 for c in class_intervals]\n",
        "\n",
        "# Mean calculation\n",
        "mean_grouped = sum(f * m for f, m in zip(frequencies, midpoints)) / sum(frequencies)\n",
        "\n",
        "# Median calculation\n",
        "cumulative_frequencies = np.cumsum(frequencies)\n",
        "total = sum(frequencies)\n",
        "median_class_index = np.where(cumulative_frequencies >= total / 2)[0][0]\n",
        "L = class_intervals[median_class_index][0]\n",
        "F = cumulative_frequencies[median_class_index - 1] if median_class_index > 0 else 0\n",
        "f_median = frequencies[median_class_index]\n",
        "h = class_intervals[median_class_index][1] - class_intervals[median_class_index][0]\n",
        "median_grouped = L + ((total / 2 - F) / f_median) * h\n",
        "\n",
        "# Mode calculation\n",
        "mode_class_index = np.argmax(frequencies)\n",
        "L_mode = class_intervals[mode_class_index][0]\n",
        "f_mode = frequencies[mode_class_index]\n",
        "f_prev = frequencies[mode_class_index - 1] if mode_class_index > 0 else 0\n",
        "f_next = frequencies[mode_class_index + 1] if mode_class_index < len(frequencies) - 1 else 0\n",
        "mode_grouped = L_mode + ((f_mode - f_prev) / ((f_mode - f_prev) + (f_mode - f_next))) * h\n",
        "\n",
        "# Print results\n",
        "print(\"Grouped Mean:\", mean_grouped)\n",
        "print(\"Grouped Median:\", median_grouped)\n",
        "print(\"Grouped Mode:\", mode_grouped)"
      ],
      "metadata": {
        "colab": {
          "base_uri": "https://localhost:8080/"
        },
        "id": "2ecCVbu9KCUG",
        "outputId": "0e4fddf5-15b3-4e0f-8ac5-04e9cec56eea"
      },
      "execution_count": 7,
      "outputs": [
        {
          "output_type": "stream",
          "name": "stdout",
          "text": [
            "Grouped Mean: 26.333333333333332\n",
            "Grouped Median: 26.333333333333332\n",
            "Grouped Mode: 25.833333333333336\n"
          ]
        }
      ]
    },
    {
      "cell_type": "code",
      "source": [
        "#14. Simulate data using Python and calculate its central tendency and dispersion.\n",
        "\n",
        "import numpy as np\n",
        "import statistics\n",
        "\n",
        "# Simulate a dataset (normal distribution)\n",
        "data = np.random.normal(loc=50, scale=15, size=1000)  # Mean=50, Std Dev=15, Sample size=1000\n",
        "\n",
        "# Central Tendency\n",
        "mean_value = statistics.mean(data)\n",
        "median_value = statistics.median(data)\n",
        "mode_value = statistics.mode(data)\n",
        "\n",
        "# Dispersion\n",
        "variance_value = statistics.variance(data)\n",
        "std_dev_value = statistics.stdev(data)\n",
        "range_value = max(data) - min(data)\n",
        "\n",
        "# Print results\n",
        "print(\"Mean:\", mean_value)\n",
        "print(\"Median:\", median_value)\n",
        "print(\"Mode:\", mode_value)\n",
        "print(\"Variance:\", variance_value)\n",
        "print(\"Standard Deviation:\", std_dev_value)\n",
        "print(\"Range:\", range_value)"
      ],
      "metadata": {
        "colab": {
          "base_uri": "https://localhost:8080/"
        },
        "id": "XNsTAidtKKuU",
        "outputId": "73219b83-29c2-4711-f0fd-35bf716e7fd8"
      },
      "execution_count": 8,
      "outputs": [
        {
          "output_type": "stream",
          "name": "stdout",
          "text": [
            "Mean: 49.89600763164811\n",
            "Median: 49.75140118915451\n",
            "Mode: 47.805458226933936\n",
            "Variance: 225.99775618563152\n",
            "Standard Deviation: 15.033221750031878\n",
            "Range: 103.36642914744621\n"
          ]
        }
      ]
    },
    {
      "cell_type": "code",
      "source": [
        "#15. Use NumPy or pandas to summarize a dataset’s descriptive statistics.\n",
        "\n",
        "import numpy as np\n",
        "import pandas as pd\n",
        "\n",
        "# Create a sample dataset\n",
        "data = pd.DataFrame({\n",
        "    \"A\": np.random.randint(10, 100, 20),\n",
        "    \"B\": np.random.normal(50, 15, 20),\n",
        "    \"C\": np.random.exponential(scale=20, size=20)\n",
        "})\n",
        "\n",
        "# Generate descriptive statistics\n",
        "summary = data.describe()\n",
        "\n",
        "# Print summary\n",
        "print(summary)"
      ],
      "metadata": {
        "colab": {
          "base_uri": "https://localhost:8080/"
        },
        "id": "O18FXahyKSZk",
        "outputId": "8ec9cee4-ca86-40b5-e80a-db0c3cbf7fe3"
      },
      "execution_count": 9,
      "outputs": [
        {
          "output_type": "stream",
          "name": "stdout",
          "text": [
            "              A          B          C\n",
            "count  20.00000  20.000000  20.000000\n",
            "mean   55.35000  52.983086  14.158212\n",
            "std    24.80296  16.232971  21.129601\n",
            "min    10.00000  34.718716   1.185268\n",
            "25%    42.75000  42.456424   1.712941\n",
            "50%    56.50000  47.518011   4.207764\n",
            "75%    75.25000  63.679573  14.002592\n",
            "max    99.00000  95.336793  80.817776\n"
          ]
        }
      ]
    },
    {
      "cell_type": "code",
      "source": [
        "#16. Plot a boxplot to understand the spread and identify outliers.\n",
        "\n",
        "import numpy as np\n",
        "import matplotlib.pyplot as plt\n",
        "\n",
        "# Generate a sample dataset with outliers\n",
        "data = np.append(np.random.normal(50, 15, 100), [120, 130, 140])  # Adding outliers\n",
        "\n",
        "# Create a boxplot\n",
        "plt.boxplot(data, vert=False, patch_artist=True, boxprops=dict(facecolor=\"lightblue\"))\n",
        "plt.title(\"Boxplot to Identify Outliers\")\n",
        "plt.xlabel(\"Values\")\n",
        "plt.show()"
      ],
      "metadata": {
        "colab": {
          "base_uri": "https://localhost:8080/",
          "height": 472
        },
        "id": "01n6LiZgKelt",
        "outputId": "fd5d38ba-c723-4266-da82-62b1835aa49e"
      },
      "execution_count": 10,
      "outputs": [
        {
          "output_type": "display_data",
          "data": {
            "text/plain": [
              "<Figure size 640x480 with 1 Axes>"
            ],
            "image/png": "[encoded data removed]"
          },
          "metadata": {}
        }
      ]
    },
    {
      "cell_type": "code",
      "source": [
        "#17. Calculate the interquartile range (IQR) of a dataset.\n",
        "\n",
        "import numpy as np\n",
        "\n",
        "# Sample dataset\n",
        "data = np.array([4, 8, 6, 5, 3, 8, 8, 2, 9, 5, 6, 4, 6])\n",
        "\n",
        "# Calculate Q1 (25th percentile) and Q3 (75th percentile)\n",
        "Q1 = np.percentile(data, 25)\n",
        "Q3 = np.percentile(data, 75)\n",
        "\n",
        "# Calculate IQR\n",
        "IQR = Q3 - Q1\n",
        "\n",
        "print(\"Interquartile Range (IQR):\", IQR)"
      ],
      "metadata": {
        "colab": {
          "base_uri": "https://localhost:8080/"
        },
        "id": "latWUDUQKp4O",
        "outputId": "57fc5ed7-aad9-4cca-dbdd-7a1a03cd5039"
      },
      "execution_count": 11,
      "outputs": [
        {
          "output_type": "stream",
          "name": "stdout",
          "text": [
            "Interquartile Range (IQR): 4.0\n"
          ]
        }
      ]
    },
    {
      "cell_type": "code",
      "source": [
        "#18. Implement Z-score normalization and explain its significance.\n",
        "\n",
        "import numpy as np\n",
        "import scipy.stats as stats\n",
        "\n",
        "# Sample dataset\n",
        "data = np.array([10, 20, 30, 40, 50, 60, 70, 80, 90, 100])\n",
        "\n",
        "# Z-score normalization\n",
        "z_scores = stats.zscore(data)\n",
        "\n",
        "print(\"Z-score Normalized Data:\", z_scores)"
      ],
      "metadata": {
        "colab": {
          "base_uri": "https://localhost:8080/"
        },
        "id": "tXawq4pIKyN_",
        "outputId": "f91f3c59-4df4-4f8c-a440-592d2232abcf"
      },
      "execution_count": 12,
      "outputs": [
        {
          "output_type": "stream",
          "name": "stdout",
          "text": [
            "Z-score Normalized Data: [-1.5666989  -1.21854359 -0.87038828 -0.52223297 -0.17407766  0.17407766\n",
            "  0.52223297  0.87038828  1.21854359  1.5666989 ]\n"
          ]
        }
      ]
    },
    {
      "cell_type": "code",
      "source": [
        "#19. Compare two datasets using their standard deviations.\n",
        "\n",
        "import numpy as np\n",
        "\n",
        "# Sample datasets\n",
        "data1 = np.array([10, 12, 14, 16, 18, 20, 22, 24, 26, 28])\n",
        "data2 = np.array([5, 15, 25, 35, 45, 55, 65, 75, 85, 95])\n",
        "\n",
        "# Calculate standard deviations\n",
        "std_dev1 = np.std(data1, ddof=1)  # Sample standard deviation\n",
        "std_dev2 = np.std(data2, ddof=1)\n",
        "\n",
        "# Print results\n",
        "print(\"Standard Deviation of Dataset 1:\", std_dev1)\n",
        "print(\"Standard Deviation of Dataset 2:\", std_dev2)\n",
        "\n",
        "# Comparison\n",
        "if std_dev1 > std_dev2:\n",
        "    print(\"Dataset 1 has higher variability.\")\n",
        "elif std_dev1 < std_dev2:\n",
        "    print(\"Dataset 2 has higher variability.\")\n",
        "else:\n",
        "    print(\"Both datasets have the same variability.\")\n"
      ],
      "metadata": {
        "colab": {
          "base_uri": "https://localhost:8080/"
        },
        "id": "GdjaqHRkK7po",
        "outputId": "5bc16f32-1b22-4df3-a1fc-6946473f70c6"
      },
      "execution_count": 13,
      "outputs": [
        {
          "output_type": "stream",
          "name": "stdout",
          "text": [
            "Standard Deviation of Dataset 1: 6.0553007081949835\n",
            "Standard Deviation of Dataset 2: 30.276503540974915\n",
            "Dataset 2 has higher variability.\n"
          ]
        }
      ]
    },
    {
      "cell_type": "code",
      "source": [
        "#20. Write a Python program to visualize covariance using a heatmap.\n",
        "\n",
        "import numpy as np\n",
        "import pandas as pd\n",
        "import seaborn as sns\n",
        "import matplotlib.pyplot as plt\n",
        "\n",
        "# Generate a sample dataset\n",
        "np.random.seed(42)\n",
        "data = pd.DataFrame({\n",
        "    \"A\": np.random.randint(10, 100, 50),\n",
        "    \"B\": np.random.randint(20, 200, 50),\n",
        "    \"C\": np.random.randint(30, 300, 50)\n",
        "})\n",
        "\n",
        "# Compute the covariance matrix\n",
        "cov_matrix = data.cov()\n",
        "\n",
        "# Plot the heatmap\n",
        "plt.figure(figsize=(6, 4))\n",
        "sns.heatmap(cov_matrix, annot=True, cmap=\"coolwarm\", fmt=\".2f\", linewidths=0.5)\n",
        "plt.title(\"Covariance Heatmap\")\n",
        "plt.show()"
      ],
      "metadata": {
        "colab": {
          "base_uri": "https://localhost:8080/",
          "height": 391
        },
        "id": "VAqNgkx0LFxu",
        "outputId": "55dc552a-884a-4abf-fe0e-df18d2243805"
      },
      "execution_count": 14,
      "outputs": [
        {
          "output_type": "display_data",
          "data": {
            "text/plain": [
              "<Figure size 600x400 with 2 Axes>"
            ],
            "image/png": "[encoded data removed]"
          },
          "metadata": {}
        }
      ]
    },
    {
      "cell_type": "code",
      "source": [
        "#21. Use seaborn to create a correlation matrix for a dataset.\n",
        "\n",
        "import numpy as np\n",
        "import pandas as pd\n",
        "import seaborn as sns\n",
        "import matplotlib.pyplot as plt\n",
        "\n",
        "# Generate a sample dataset\n",
        "np.random.seed(42)\n",
        "data = pd.DataFrame({\n",
        "    \"A\": np.random.randint(10, 100, 50),\n",
        "    \"B\": np.random.randint(20, 200, 50),\n",
        "    \"C\": np.random.randint(30, 300, 50),\n",
        "    \"D\": np.random.randint(40, 400, 50)\n",
        "})\n",
        "\n",
        "# Compute the correlation matrix\n",
        "correlation_matrix = data.corr()\n",
        "\n",
        "# Plot the heatmap\n",
        "plt.figure(figsize=(6, 4))\n",
        "sns.heatmap(correlation_matrix, annot=True, cmap=\"coolwarm\", fmt=\".2f\", linewidths=0.5)\n",
        "plt.title(\"Correlation Matrix Heatmap\")\n",
        "plt.show()\n"
      ],
      "metadata": {
        "colab": {
          "base_uri": "https://localhost:8080/",
          "height": 391
        },
        "id": "TcRKycmmLOUo",
        "outputId": "f1f49f9a-79e2-48c2-c611-d0d09d718e19"
      },
      "execution_count": 15,
      "outputs": [
        {
          "output_type": "display_data",
          "data": {
            "text/plain": [
              "<Figure size 600x400 with 2 Axes>"
            ],
            "image/png": "[encoded data removed]"
          },
          "metadata": {}
        }
      ]
    },
    {
      "cell_type": "code",
      "source": [
        "#22. Generate a dataset and implement both variance and standard deviation computations.\n",
        "\n",
        "import numpy as np\n",
        "\n",
        "# Generate a random dataset\n",
        "data = np.random.randint(10, 100, 20)\n",
        "\n",
        "# Compute variance and standard deviation\n",
        "variance = np.var(data, ddof=1)  # Sample variance (ddof=1)\n",
        "std_dev = np.std(data, ddof=1)    # Sample standard deviation (ddof=1)\n",
        "\n",
        "# Print results\n",
        "print(\"Dataset:\", data)\n",
        "print(\"Variance:\", variance)\n",
        "print(\"Standard Deviation:\", std_dev)"
      ],
      "metadata": {
        "colab": {
          "base_uri": "https://localhost:8080/"
        },
        "id": "2r4IJgrwN4Ko",
        "outputId": "a2d7d4b2-4339-49fb-cd81-b5181db65783"
      },
      "execution_count": 16,
      "outputs": [
        {
          "output_type": "stream",
          "name": "stdout",
          "text": [
            "Dataset: [10 28 11 62 53 99 41 79 41 77 64 84 65 26 47 33 78 79 95 20]\n",
            "Variance: 761.5157894736841\n",
            "Standard Deviation: 27.595575541627756\n"
          ]
        }
      ]
    },
    {
      "cell_type": "code",
      "source": [
        "#23. Visualize skewness and kurtosis using Python libraries like matplotlib or seaborn.\n",
        "\n",
        "import numpy as np\n",
        "import matplotlib.pyplot as plt\n",
        "import seaborn as sns\n",
        "from scipy.stats import skew, kurtosis\n",
        "\n",
        "# Generate a skewed dataset (exponential distribution)\n",
        "data = np.random.exponential(scale=2, size=1000)\n",
        "\n",
        "# Calculate skewness and kurtosis\n",
        "data_skewness = skew(data)\n",
        "data_kurtosis = kurtosis(data)\n",
        "\n",
        "# Create a histogram with KDE using seaborn\n",
        "plt.figure(figsize=(10, 6))\n",
        "sns.histplot(data, bins=30, kde=True, color='skyblue', edgecolor='black')\n",
        "plt.title(\"Distribution with Skewness and Kurtosis\")\n",
        "plt.xlabel(\"Value\")\n",
        "plt.ylabel(\"Frequency\")\n",
        "\n",
        "# Annotate the plot with skewness and kurtosis values\n",
        "plt.text(0.95, 0.95,\n",
        "         f\"Skewness: {data_skewness:.2f}\\nKurtosis: {data_kurtosis:.2f}\",\n",
        "         horizontalalignment='right',\n",
        "         verticalalignment='top',\n",
        "         transform=plt.gca().transAxes,\n",
        "         bbox=dict(facecolor='white', alpha=0.5))\n",
        "\n",
        "plt.show()"
      ],
      "metadata": {
        "colab": {
          "base_uri": "https://localhost:8080/",
          "height": 564
        },
        "id": "qfEEInfzOpo1",
        "outputId": "a59bae3c-004c-4bfd-eacf-54b777b5bd96"
      },
      "execution_count": 17,
      "outputs": [
        {
          "output_type": "display_data",
          "data": {
            "text/plain": [
              "<Figure size 1000x600 with 1 Axes>"
            ],
            "image/png": "[encoded data removed]"
          },
          "metadata": {}
        }
      ]
    },
    {
      "cell_type": "code",
      "source": [
        "#24. Implement the Pearson and Spearman correlation coefficients for a dataset.\n",
        "\n",
        "import numpy as np\n",
        "import scipy.stats as stats\n",
        "\n",
        "# Sample dataset\n",
        "x = np.array([10, 20, 30, 40, 50, 60, 70, 80, 90, 100])\n",
        "y = np.array([15, 25, 35, 50, 65, 75, 85, 95, 105, 120])\n",
        "\n",
        "# Pearson Correlation Coefficient\n",
        "pearson_corr, _ = stats.pearsonr(x, y)\n",
        "\n",
        "# Spearman Correlation Coefficient\n",
        "spearman_corr, _ = stats.spearmanr(x, y)\n",
        "\n",
        "# Print results\n",
        "print(\"Pearson Correlation Coefficient:\", pearson_corr)\n",
        "print(\"Spearman Correlation Coefficient:\", spearman_corr)"
      ],
      "metadata": {
        "colab": {
          "base_uri": "https://localhost:8080/"
        },
        "id": "9XClFktGPV56",
        "outputId": "76e9b634-498c-4bfd-bfce-2c0560e65b75"
      },
      "execution_count": 18,
      "outputs": [
        {
          "output_type": "stream",
          "name": "stdout",
          "text": [
            "Pearson Correlation Coefficient: 0.9982549042119193\n",
            "Spearman Correlation Coefficient: 0.9999999999999999\n"
          ]
        }
      ]
    }
  ]
}